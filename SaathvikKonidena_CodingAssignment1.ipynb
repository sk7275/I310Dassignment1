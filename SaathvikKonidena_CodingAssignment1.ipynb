{
  "nbformat": 4,
  "nbformat_minor": 0,
  "metadata": {
    "colab": {
      "provenance": []
    },
    "kernelspec": {
      "name": "python3",
      "display_name": "Python 3"
    },
    "language_info": {
      "name": "python"
    }
  },
  "cells": [
    {
      "cell_type": "markdown",
      "source": [
        "This bit of code is needed to install a web-driver that is used in the web-scraping process, as I used the Selenium library for this project which requires a proper web browser driver."
      ],
      "metadata": {
        "id": "Ftiu4agCww_m"
      }
    },
    {
      "cell_type": "code",
      "source": [
        "if 'google.colab' in str(get_ipython()):\n",
        "    print('Google CoLab Installation')\n",
        "    !apt update --quiet\n",
        "    !apt install chromium-chromedriver --quiet"
      ],
      "metadata": {
        "colab": {
          "base_uri": "https://localhost:8080/"
        },
        "id": "Gk3RSQvCpcsf",
        "outputId": "25aba818-cbc4-4408-8d05-919c35d04f6d"
      },
      "execution_count": 1,
      "outputs": [
        {
          "output_type": "stream",
          "name": "stdout",
          "text": [
            "Google CoLab Installation\n",
            "Hit:1 http://archive.ubuntu.com/ubuntu jammy InRelease\n",
            "Get:2 http://archive.ubuntu.com/ubuntu jammy-updates InRelease [119 kB]\n",
            "Get:3 http://security.ubuntu.com/ubuntu jammy-security InRelease [110 kB]\n",
            "Hit:4 https://developer.download.nvidia.com/compute/cuda/repos/ubuntu2204/x86_64  InRelease\n",
            "Get:5 https://cloud.r-project.org/bin/linux/ubuntu jammy-cran40/ InRelease [3,626 B]\n",
            "Get:6 http://archive.ubuntu.com/ubuntu jammy-backports InRelease [109 kB]\n",
            "Hit:7 https://ppa.launchpadcontent.net/c2d4u.team/c2d4u4.0+/ubuntu jammy InRelease\n",
            "Get:8 http://security.ubuntu.com/ubuntu jammy-security/universe amd64 Packages [1,004 kB]\n",
            "Get:9 http://security.ubuntu.com/ubuntu jammy-security/main amd64 Packages [1,081 kB]\n",
            "Hit:10 https://ppa.launchpadcontent.net/deadsnakes/ppa/ubuntu jammy InRelease\n",
            "Get:11 http://archive.ubuntu.com/ubuntu jammy-updates/universe amd64 Packages [1,269 kB]\n",
            "Get:12 http://archive.ubuntu.com/ubuntu jammy-updates/main amd64 Packages [1,343 kB]\n",
            "Hit:13 https://ppa.launchpadcontent.net/graphics-drivers/ppa/ubuntu jammy InRelease\n",
            "Hit:14 https://ppa.launchpadcontent.net/ubuntugis/ppa/ubuntu jammy InRelease\n",
            "Fetched 5,038 kB in 2s (2,805 kB/s)\n",
            "Reading package lists...\n",
            "Building dependency tree...\n",
            "Reading state information...\n",
            "18 packages can be upgraded. Run 'apt list --upgradable' to see them.\n",
            "Reading package lists...\n",
            "Building dependency tree...\n",
            "Reading state information...\n",
            "The following additional packages will be installed:\n",
            "  apparmor chromium-browser libfuse3-3 liblzo2-2 libudev1 snapd squashfs-tools\n",
            "  systemd-hwe-hwdb udev\n",
            "Suggested packages:\n",
            "  apparmor-profiles-extra apparmor-utils fuse3 zenity | kdialog\n",
            "The following NEW packages will be installed:\n",
            "  apparmor chromium-browser chromium-chromedriver libfuse3-3 liblzo2-2 snapd\n",
            "  squashfs-tools systemd-hwe-hwdb udev\n",
            "The following packages will be upgraded:\n",
            "  libudev1\n",
            "1 upgraded, 9 newly installed, 0 to remove and 17 not upgraded.\n",
            "Need to get 26.4 MB of archives.\n",
            "After this operation, 116 MB of additional disk space will be used.\n",
            "Get:1 http://archive.ubuntu.com/ubuntu jammy-updates/main amd64 apparmor amd64 3.0.4-2ubuntu2.2 [595 kB]\n",
            "Get:2 http://archive.ubuntu.com/ubuntu jammy/main amd64 liblzo2-2 amd64 2.10-2build3 [53.7 kB]\n",
            "Get:3 http://archive.ubuntu.com/ubuntu jammy/main amd64 squashfs-tools amd64 1:4.5-3build1 [159 kB]\n",
            "Get:4 http://archive.ubuntu.com/ubuntu jammy-updates/main amd64 libudev1 amd64 249.11-0ubuntu3.10 [78.0 kB]\n",
            "Get:5 http://archive.ubuntu.com/ubuntu jammy-updates/main amd64 udev amd64 249.11-0ubuntu3.10 [1,557 kB]\n",
            "Get:6 http://archive.ubuntu.com/ubuntu jammy/main amd64 libfuse3-3 amd64 3.10.5-1build1 [81.2 kB]\n",
            "Get:7 http://archive.ubuntu.com/ubuntu jammy-updates/main amd64 snapd amd64 2.58+22.04.1 [23.8 MB]\n",
            "Get:8 http://archive.ubuntu.com/ubuntu jammy-updates/universe amd64 chromium-browser amd64 1:85.0.4183.83-0ubuntu2.22.04.1 [49.2 kB]\n",
            "Get:9 http://archive.ubuntu.com/ubuntu jammy-updates/universe amd64 chromium-chromedriver amd64 1:85.0.4183.83-0ubuntu2.22.04.1 [2,308 B]\n",
            "Get:10 http://archive.ubuntu.com/ubuntu jammy-updates/main amd64 systemd-hwe-hwdb all 249.11.3 [2,908 B]\n",
            "Fetched 26.4 MB in 1s (42.4 MB/s)\n",
            "Preconfiguring packages ...\n",
            "Selecting previously unselected package apparmor.\n",
            "(Reading database ... 120875 files and directories currently installed.)\n",
            "Preparing to unpack .../apparmor_3.0.4-2ubuntu2.2_amd64.deb ...\n",
            "Unpacking apparmor (3.0.4-2ubuntu2.2) ...\n",
            "Selecting previously unselected package liblzo2-2:amd64.\n",
            "Preparing to unpack .../liblzo2-2_2.10-2build3_amd64.deb ...\n",
            "Unpacking liblzo2-2:amd64 (2.10-2build3) ...\n",
            "Selecting previously unselected package squashfs-tools.\n",
            "Preparing to unpack .../squashfs-tools_1%3a4.5-3build1_amd64.deb ...\n",
            "Unpacking squashfs-tools (1:4.5-3build1) ...\n",
            "Preparing to unpack .../libudev1_249.11-0ubuntu3.10_amd64.deb ...\n",
            "Unpacking libudev1:amd64 (249.11-0ubuntu3.10) over (249.11-0ubuntu3.9) ...\n",
            "Setting up libudev1:amd64 (249.11-0ubuntu3.10) ...\n",
            "Selecting previously unselected package udev.\n",
            "(Reading database ... 121082 files and directories currently installed.)\n",
            "Preparing to unpack .../udev_249.11-0ubuntu3.10_amd64.deb ...\n",
            "Unpacking udev (249.11-0ubuntu3.10) ...\n",
            "Selecting previously unselected package libfuse3-3:amd64.\n",
            "Preparing to unpack .../libfuse3-3_3.10.5-1build1_amd64.deb ...\n",
            "Unpacking libfuse3-3:amd64 (3.10.5-1build1) ...\n",
            "Selecting previously unselected package snapd.\n",
            "Preparing to unpack .../snapd_2.58+22.04.1_amd64.deb ...\n",
            "Unpacking snapd (2.58+22.04.1) ...\n",
            "Setting up apparmor (3.0.4-2ubuntu2.2) ...\n",
            "Created symlink /etc/systemd/system/sysinit.target.wants/apparmor.service → /lib/systemd/system/apparmor.service.\n",
            "Setting up liblzo2-2:amd64 (2.10-2build3) ...\n",
            "Setting up squashfs-tools (1:4.5-3build1) ...\n",
            "Setting up udev (249.11-0ubuntu3.10) ...\n",
            "invoke-rc.d: could not determine current runlevel\n",
            "invoke-rc.d: policy-rc.d denied execution of start.\n",
            "Setting up libfuse3-3:amd64 (3.10.5-1build1) ...\n",
            "Setting up snapd (2.58+22.04.1) ...\n",
            "Created symlink /etc/systemd/system/multi-user.target.wants/snapd.aa-prompt-listener.service → /lib/systemd/system/snapd.aa-prompt-listener.service.\n",
            "Created symlink /etc/systemd/system/multi-user.target.wants/snapd.apparmor.service → /lib/systemd/system/snapd.apparmor.service.\n",
            "Created symlink /etc/systemd/system/multi-user.target.wants/snapd.autoimport.service → /lib/systemd/system/snapd.autoimport.service.\n",
            "Created symlink /etc/systemd/system/multi-user.target.wants/snapd.core-fixup.service → /lib/systemd/system/snapd.core-fixup.service.\n",
            "Created symlink /etc/systemd/system/multi-user.target.wants/snapd.recovery-chooser-trigger.service → /lib/systemd/system/snapd.recovery-chooser-trigger.service.\n",
            "Created symlink /etc/systemd/system/multi-user.target.wants/snapd.seeded.service → /lib/systemd/system/snapd.seeded.service.\n",
            "Created symlink /etc/systemd/system/cloud-final.service.wants/snapd.seeded.service → /lib/systemd/system/snapd.seeded.service.\n",
            "Unit /lib/systemd/system/snapd.seeded.service is added as a dependency to a non-existent unit cloud-final.service.\n",
            "Created symlink /etc/systemd/system/multi-user.target.wants/snapd.service → /lib/systemd/system/snapd.service.\n",
            "Created symlink /etc/systemd/system/timers.target.wants/snapd.snap-repair.timer → /lib/systemd/system/snapd.snap-repair.timer.\n",
            "Created symlink /etc/systemd/system/sockets.target.wants/snapd.socket → /lib/systemd/system/snapd.socket.\n",
            "Created symlink /etc/systemd/system/final.target.wants/snapd.system-shutdown.service → /lib/systemd/system/snapd.system-shutdown.service.\n",
            "Selecting previously unselected package chromium-browser.\n",
            "(Reading database ... 121315 files and directories currently installed.)\n",
            "Preparing to unpack .../chromium-browser_1%3a85.0.4183.83-0ubuntu2.22.04.1_amd64.deb ...\n",
            "=> Installing the chromium snap\n",
            "==> Checking connectivity with the snap store\n",
            "===> System doesn't have a working snapd, skipping\n",
            "Unpacking chromium-browser (1:85.0.4183.83-0ubuntu2.22.04.1) ...\n",
            "Selecting previously unselected package chromium-chromedriver.\n",
            "Preparing to unpack .../chromium-chromedriver_1%3a85.0.4183.83-0ubuntu2.22.04.1_amd64.deb ...\n",
            "Unpacking chromium-chromedriver (1:85.0.4183.83-0ubuntu2.22.04.1) ...\n",
            "Selecting previously unselected package systemd-hwe-hwdb.\n",
            "Preparing to unpack .../systemd-hwe-hwdb_249.11.3_all.deb ...\n",
            "Unpacking systemd-hwe-hwdb (249.11.3) ...\n",
            "Setting up systemd-hwe-hwdb (249.11.3) ...\n",
            "Setting up chromium-browser (1:85.0.4183.83-0ubuntu2.22.04.1) ...\n",
            "update-alternatives: using /usr/bin/chromium-browser to provide /usr/bin/x-www-browser (x-www-browser) in auto mode\n",
            "update-alternatives: using /usr/bin/chromium-browser to provide /usr/bin/gnome-www-browser (gnome-www-browser) in auto mode\n",
            "Setting up chromium-chromedriver (1:85.0.4183.83-0ubuntu2.22.04.1) ...\n",
            "Processing triggers for udev (249.11-0ubuntu3.10) ...\n",
            "Processing triggers for hicolor-icon-theme (0.17-2) ...\n",
            "Processing triggers for libc-bin (2.35-0ubuntu3.1) ...\n",
            "/sbin/ldconfig.real: /usr/local/lib/libtbbbind_2_0.so.3 is not a symbolic link\n",
            "\n",
            "/sbin/ldconfig.real: /usr/local/lib/libtbbbind.so.3 is not a symbolic link\n",
            "\n",
            "/sbin/ldconfig.real: /usr/local/lib/libtbbmalloc_proxy.so.2 is not a symbolic link\n",
            "\n",
            "/sbin/ldconfig.real: /usr/local/lib/libtbb.so.12 is not a symbolic link\n",
            "\n",
            "/sbin/ldconfig.real: /usr/local/lib/libtbbmalloc.so.2 is not a symbolic link\n",
            "\n",
            "/sbin/ldconfig.real: /usr/local/lib/libtbbbind_2_5.so.3 is not a symbolic link\n",
            "\n",
            "Processing triggers for man-db (2.10.2-1) ...\n",
            "Processing triggers for dbus (1.12.20-2ubuntu4.1) ...\n"
          ]
        }
      ]
    },
    {
      "cell_type": "markdown",
      "source": [
        "Install the selenium Library."
      ],
      "metadata": {
        "id": "Zc08RNESxLDw"
      }
    },
    {
      "cell_type": "code",
      "source": [
        "!pip install selenium --quiet\n",
        "print(\"Selenium installed succesfully\")"
      ],
      "metadata": {
        "colab": {
          "base_uri": "https://localhost:8080/"
        },
        "id": "ERcyQdamqAzQ",
        "outputId": "1b7a0d8a-35c4-4be8-e6d6-9163d3bcfb3d"
      },
      "execution_count": 2,
      "outputs": [
        {
          "output_type": "stream",
          "name": "stdout",
          "text": [
            "\u001b[2K     \u001b[90m━━━━━━━━━━━━━━━━━━━━━━━━━━━━━━━━━━━━━━━━\u001b[0m \u001b[32m9.9/9.9 MB\u001b[0m \u001b[31m48.5 MB/s\u001b[0m eta \u001b[36m0:00:00\u001b[0m\n",
            "\u001b[2K     \u001b[90m━━━━━━━━━━━━━━━━━━━━━━━━━━━━━━━━━━━━━━\u001b[0m \u001b[32m400.2/400.2 kB\u001b[0m \u001b[31m30.1 MB/s\u001b[0m eta \u001b[36m0:00:00\u001b[0m\n",
            "\u001b[2K     \u001b[90m━━━━━━━━━━━━━━━━━━━━━━━━━━━━━━━━━━━━━━━━\u001b[0m \u001b[32m58.3/58.3 kB\u001b[0m \u001b[31m5.5 MB/s\u001b[0m eta \u001b[36m0:00:00\u001b[0m\n",
            "\u001b[?25hSelenium installed succesfully\n"
          ]
        }
      ]
    },
    {
      "cell_type": "markdown",
      "source": [
        "Import all the required modules/libraries necesary for web-scraping."
      ],
      "metadata": {
        "id": "HIaU5W62xZq3"
      }
    },
    {
      "cell_type": "code",
      "source": [
        "print('Library Import')\n",
        "if 'google.colab' not in str(get_ipython()):\n",
        "    print('Not running on CoLab')\n",
        "    from selenium.webdriver.chrome.options import Options\n",
        "    from selenium.webdriver.chrome.service import Service\n",
        "    import os\n",
        "else:\n",
        "    print('Running on CoLab')\n",
        "\n",
        "print('Common Library Import')\n",
        "from selenium import webdriver\n",
        "from selenium.webdriver.common.by import By\n",
        "from selenium.webdriver.support.ui import WebDriverWait\n",
        "from selenium.webdriver.support import expected_conditions as EC\n",
        "import pandas as pd\n",
        "import time"
      ],
      "metadata": {
        "colab": {
          "base_uri": "https://localhost:8080/"
        },
        "id": "1uNAir8Ni63z",
        "outputId": "8617a388-e53b-49a0-f856-6ec17b0c410a"
      },
      "execution_count": 3,
      "outputs": [
        {
          "output_type": "stream",
          "name": "stdout",
          "text": [
            "Library Import\n",
            "Running on CoLab\n",
            "Common Library Import\n"
          ]
        }
      ]
    },
    {
      "cell_type": "markdown",
      "source": [
        "Create an instance of a Chrome WebDriver, which is used to navigate to the designated webpage that needs to be scraped."
      ],
      "metadata": {
        "id": "NstPqzFJxoeu"
      }
    },
    {
      "cell_type": "code",
      "source": [
        "def get_driver(url):\n",
        "    \"\"\"Return web driver\"\"\"\n",
        "    colab_options = webdriver.ChromeOptions()\n",
        "    colab_options.add_argument('--no-sandbox')\n",
        "    colab_options.add_argument('--disable-dev-shm-usage')\n",
        "    colab_options.add_argument('--headless')\n",
        "    colab_options.add_argument('--start-maximized')\n",
        "    colab_options.add_argument('--start-fullscreen')\n",
        "    colab_options.add_argument('--single-process')\n",
        "    driver = webdriver.Chrome(options=colab_options)\n",
        "    driver.get(url)\n",
        "    return driver"
      ],
      "metadata": {
        "id": "shfVIA78sMdK"
      },
      "execution_count": 4,
      "outputs": []
    },
    {
      "cell_type": "markdown",
      "source": [
        "Sanity check: test run of the get_driver method coded above, to see if it navigates to the webpage correctly. We check this by asking it to print the title of the website."
      ],
      "metadata": {
        "id": "std7KLTLx-_w"
      }
    },
    {
      "cell_type": "code",
      "source": [
        "driver = get_driver('https://finance.yahoo.com/cryptocurrencies')\n",
        "print(driver.title)"
      ],
      "metadata": {
        "colab": {
          "base_uri": "https://localhost:8080/"
        },
        "id": "DsFFDrpdsWEE",
        "outputId": "4bd89ea4-cf22-4e03-c5a5-35b352df3cc2"
      },
      "execution_count": 5,
      "outputs": [
        {
          "output_type": "stream",
          "name": "stdout",
          "text": [
            "Crypto Real Time Prices & Latest News - Yahoo Finance\n"
          ]
        }
      ]
    },
    {
      "cell_type": "markdown",
      "source": [
        "Check if the find_elements method works; we check this by printing the name 2 of the columns in the dataset"
      ],
      "metadata": {
        "id": "xVKoMFacyHgh"
      }
    },
    {
      "cell_type": "code",
      "source": [
        "header = driver.find_elements(By.TAG_NAME, value= 'th')\n",
        "print(header[0].text)\n",
        "print(header[2].text)"
      ],
      "metadata": {
        "colab": {
          "base_uri": "https://localhost:8080/"
        },
        "id": "lUR5joyDnSl0",
        "outputId": "2f7fe159-3771-4af6-eb9e-a600bf9f9f2c"
      },
      "execution_count": 6,
      "outputs": [
        {
          "output_type": "stream",
          "name": "stdout",
          "text": [
            "Symbol\n",
            "Price (Intraday)\n"
          ]
        }
      ]
    },
    {
      "cell_type": "markdown",
      "source": [
        "These methods are all helper methods for the actual webscraping process:\n",
        "\n",
        "- The get_table_header method is used to get the first 10 columns from the header, using List comprehension with conditions. It returns the names of each column in a list format.\n",
        "- The get_table_rows method is used to find the number of rows in the dataset on the webpage.\n",
        "- The parse_table_rows method is for parsing(scraping) the data one row at a time; it returns the column value in the form of a dictionary.\n",
        "- The parse_multiple_pages is used to parse multiple pages of the same dataset; for the sake of this project, I stuck to one page."
      ],
      "metadata": {
        "id": "wAeD7lpozTIl"
      }
    },
    {
      "cell_type": "code",
      "source": [
        "def get_table_header(driver):\n",
        "    \"\"\"Return Table columns in list form \"\"\"\n",
        "    header = driver.find_elements(By.TAG_NAME, value= 'th')\n",
        "    header_list = [item.text for index, item in enumerate(header) if index < 10]\n",
        "    return header_list\n",
        "\n",
        "txt=driver.find_element(By.XPATH, value='//*[@id=\"scr-res-table\"]/div[1]/table/tbody/tr[1]').text\n",
        "txt\n",
        "\n",
        "def get_table_rows(driver):\n",
        "    \"\"\"Get number of rows available on the page \"\"\"\n",
        "    tablerows = len(driver.find_elements(By.XPATH, value='//*[@id=\"scr-res-table\"]/div[1]/table/tbody/tr'))\n",
        "    return tablerows\n",
        "\n",
        "driver.find_element(By.XPATH, value='//*[@id=\"scr-res-table\"]/div[1]/table/tbody/tr[1]/td[2]').text\n",
        "\n",
        "def parse_table_rows(rownum, driver, header_list):\n",
        "    \"\"\"get the data for one row at a time and return column value in the form of dictionary\"\"\"\n",
        "    row_dictionary = {}\n",
        "    #time.sleep(1/3)\n",
        "    for index , item in enumerate(header_list):\n",
        "        time.sleep(1/20)\n",
        "        column_xpath = '//*[@id=\"scr-res-table\"]/div[1]/table/tbody/tr[{}]/td[{}]'.format(rownum, index+1)\n",
        "        row_dictionary[item] = driver.find_element(By.XPATH, value=column_xpath).text\n",
        "    return row_dictionary\n",
        "\n",
        "button_element = driver.find_element(By.XPATH, value = '//*[@id=\"scr-res-table\"]/div[2]/button[3]')\n",
        "button_element.click()\n",
        "\n",
        "def parse_multiple_pages(driver, total_crypto):\n",
        "    \"\"\"Loop through each row, perform Next button click at the end of page\n",
        "    return total_crypto numbers of rows\n",
        "    \"\"\"\n",
        "    table_data = []\n",
        "    page_num = 1\n",
        "    is_scraping = True\n",
        "    header_list = get_table_header(driver)\n",
        "\n",
        "    while is_scraping:\n",
        "        table_rows = get_table_rows(driver)\n",
        "        print('Found {} rows on Page : {}'.format(table_rows, page_num))\n",
        "        print('Parsing Page : {}'.format(page_num))\n",
        "        table_data += [parse_table_rows(i, driver, header_list) for i in range (1, table_rows + 1)]\n",
        "        total_count = len(table_data)\n",
        "        print('Total rows scraped : {}'.format(total_count))\n",
        "        if total_count >= total_crypto:\n",
        "            print('Done Parsing..')\n",
        "            is_scraping = False\n",
        "        else:\n",
        "            print('Clicking Next Button')\n",
        "            element = WebDriverWait(driver, 20).until(EC.presence_of_element_located((By.XPATH, '//*[@id=\"scr-res-table\"]/div[2]/button[3]')))\n",
        "            element.click()\n",
        "            page_num += 1\n",
        "    return table_data\n",
        "\n"
      ],
      "metadata": {
        "id": "SjQNHYifndpb"
      },
      "execution_count": 7,
      "outputs": []
    },
    {
      "cell_type": "markdown",
      "source": [
        "This method is used to actually perform the web-scraping using the helper methods defined above and saves the data to a csv file."
      ],
      "metadata": {
        "id": "8TTlMB8302J-"
      }
    },
    {
      "cell_type": "code",
      "source": [
        "def scrape_yahoo_crypto(url, total_crypto, path=None):\n",
        "    \"\"\"Get the list of yahoo finance crypto-currencies and write them to CSV file \"\"\"\n",
        "    if path is None:\n",
        "        path = 'crypto-currencies.csv'\n",
        "    print('Creating driver')\n",
        "    driver = get_driver(url)\n",
        "    table_data = parse_multiple_pages(driver, total_crypto)\n",
        "    driver.close()\n",
        "    driver.quit()\n",
        "    print('Save the data to a CSV')\n",
        "    table_df = pd.DataFrame(table_data)\n",
        "    table_df.to_csv(path, index=None)\n",
        "    #This return statement is optional, we are doing this just analyze the final output\n",
        "    return table_df\n"
      ],
      "metadata": {
        "id": "5Qv79I72HrUX"
      },
      "execution_count": 8,
      "outputs": []
    },
    {
      "cell_type": "markdown",
      "source": [
        "Scrapes the data and creates a local dataframe that can be used for analysis. Also a sanity check; prints the first 5 rows of the dataset."
      ],
      "metadata": {
        "id": "XSdeEtsb1ef4"
      }
    },
    {
      "cell_type": "code",
      "source": [
        "YAHOO_FINANCE_URL = 'https://finance.yahoo.com/cryptocurrencies'\n",
        "TOTAL_CRYPTO = 25\n",
        "crypto_df = scrape_yahoo_crypto(YAHOO_FINANCE_URL, TOTAL_CRYPTO,'crypto-currencies.csv')\n",
        "crypto_df.head()"
      ],
      "metadata": {
        "colab": {
          "base_uri": "https://localhost:8080/",
          "height": 414
        },
        "id": "yGZqODkzHtQ1",
        "outputId": "3354cda6-c417-4ded-cb80-a718f50e4e02"
      },
      "execution_count": 10,
      "outputs": [
        {
          "output_type": "stream",
          "name": "stdout",
          "text": [
            "Creating driver\n",
            "Found 25 rows on Page : 1\n",
            "Parsing Page : 1\n",
            "Total rows scraped : 25\n",
            "Done Parsing..\n",
            "Save the data to a CSV\n"
          ]
        },
        {
          "output_type": "execute_result",
          "data": {
            "text/plain": [
              "     Symbol             Name Price (Intraday)     Change % Change Market Cap  \\\n",
              "0   BTC-USD      Bitcoin USD        27,383.44    -215.01   -0.78%   534.256B   \n",
              "1   ETH-USD     Ethereum USD         1,570.03      -9.58   -0.61%     188.8B   \n",
              "2  USDT-USD  Tether USDt USD           1.0004    +0.0002   +0.02%    83.529B   \n",
              "3   BNB-USD          BNB USD           206.78      +0.46   +0.22%    31.812B   \n",
              "4   XRP-USD          XRP USD         0.496389  -0.003761   -0.75%    26.501B   \n",
              "\n",
              "  Volume in Currency (Since 0:00 UTC) Volume in Currency (24Hr)  \\\n",
              "0                              9.821B                    9.821B   \n",
              "1                              5.175B                    5.175B   \n",
              "2                             17.156B                   17.156B   \n",
              "3                            441.578M                  441.578M   \n",
              "4                            647.947M                  647.947M   \n",
              "\n",
              "  Total Volume All Currencies (24Hr) Circulating Supply  \n",
              "0                             9.821B             19.51M  \n",
              "1                             5.175B           120.252M  \n",
              "2                            17.156B            83.495B  \n",
              "3                           441.578M           153.845M  \n",
              "4                           647.947M            53.387B  "
            ],
            "text/html": [
              "\n",
              "  <div id=\"df-ed1b8f73-1011-48a8-9cad-8be6836cfd5d\" class=\"colab-df-container\">\n",
              "    <div>\n",
              "<style scoped>\n",
              "    .dataframe tbody tr th:only-of-type {\n",
              "        vertical-align: middle;\n",
              "    }\n",
              "\n",
              "    .dataframe tbody tr th {\n",
              "        vertical-align: top;\n",
              "    }\n",
              "\n",
              "    .dataframe thead th {\n",
              "        text-align: right;\n",
              "    }\n",
              "</style>\n",
              "<table border=\"1\" class=\"dataframe\">\n",
              "  <thead>\n",
              "    <tr style=\"text-align: right;\">\n",
              "      <th></th>\n",
              "      <th>Symbol</th>\n",
              "      <th>Name</th>\n",
              "      <th>Price (Intraday)</th>\n",
              "      <th>Change</th>\n",
              "      <th>% Change</th>\n",
              "      <th>Market Cap</th>\n",
              "      <th>Volume in Currency (Since 0:00 UTC)</th>\n",
              "      <th>Volume in Currency (24Hr)</th>\n",
              "      <th>Total Volume All Currencies (24Hr)</th>\n",
              "      <th>Circulating Supply</th>\n",
              "    </tr>\n",
              "  </thead>\n",
              "  <tbody>\n",
              "    <tr>\n",
              "      <th>0</th>\n",
              "      <td>BTC-USD</td>\n",
              "      <td>Bitcoin USD</td>\n",
              "      <td>27,383.44</td>\n",
              "      <td>-215.01</td>\n",
              "      <td>-0.78%</td>\n",
              "      <td>534.256B</td>\n",
              "      <td>9.821B</td>\n",
              "      <td>9.821B</td>\n",
              "      <td>9.821B</td>\n",
              "      <td>19.51M</td>\n",
              "    </tr>\n",
              "    <tr>\n",
              "      <th>1</th>\n",
              "      <td>ETH-USD</td>\n",
              "      <td>Ethereum USD</td>\n",
              "      <td>1,570.03</td>\n",
              "      <td>-9.58</td>\n",
              "      <td>-0.61%</td>\n",
              "      <td>188.8B</td>\n",
              "      <td>5.175B</td>\n",
              "      <td>5.175B</td>\n",
              "      <td>5.175B</td>\n",
              "      <td>120.252M</td>\n",
              "    </tr>\n",
              "    <tr>\n",
              "      <th>2</th>\n",
              "      <td>USDT-USD</td>\n",
              "      <td>Tether USDt USD</td>\n",
              "      <td>1.0004</td>\n",
              "      <td>+0.0002</td>\n",
              "      <td>+0.02%</td>\n",
              "      <td>83.529B</td>\n",
              "      <td>17.156B</td>\n",
              "      <td>17.156B</td>\n",
              "      <td>17.156B</td>\n",
              "      <td>83.495B</td>\n",
              "    </tr>\n",
              "    <tr>\n",
              "      <th>3</th>\n",
              "      <td>BNB-USD</td>\n",
              "      <td>BNB USD</td>\n",
              "      <td>206.78</td>\n",
              "      <td>+0.46</td>\n",
              "      <td>+0.22%</td>\n",
              "      <td>31.812B</td>\n",
              "      <td>441.578M</td>\n",
              "      <td>441.578M</td>\n",
              "      <td>441.578M</td>\n",
              "      <td>153.845M</td>\n",
              "    </tr>\n",
              "    <tr>\n",
              "      <th>4</th>\n",
              "      <td>XRP-USD</td>\n",
              "      <td>XRP USD</td>\n",
              "      <td>0.496389</td>\n",
              "      <td>-0.003761</td>\n",
              "      <td>-0.75%</td>\n",
              "      <td>26.501B</td>\n",
              "      <td>647.947M</td>\n",
              "      <td>647.947M</td>\n",
              "      <td>647.947M</td>\n",
              "      <td>53.387B</td>\n",
              "    </tr>\n",
              "  </tbody>\n",
              "</table>\n",
              "</div>\n",
              "    <div class=\"colab-df-buttons\">\n",
              "\n",
              "  <div class=\"colab-df-container\">\n",
              "    <button class=\"colab-df-convert\" onclick=\"convertToInteractive('df-ed1b8f73-1011-48a8-9cad-8be6836cfd5d')\"\n",
              "            title=\"Convert this dataframe to an interactive table.\"\n",
              "            style=\"display:none;\">\n",
              "\n",
              "  <svg xmlns=\"http://www.w3.org/2000/svg\" height=\"24px\" viewBox=\"0 -960 960 960\">\n",
              "    <path d=\"M120-120v-720h720v720H120Zm60-500h600v-160H180v160Zm220 220h160v-160H400v160Zm0 220h160v-160H400v160ZM180-400h160v-160H180v160Zm440 0h160v-160H620v160ZM180-180h160v-160H180v160Zm440 0h160v-160H620v160Z\"/>\n",
              "  </svg>\n",
              "    </button>\n",
              "\n",
              "  <style>\n",
              "    .colab-df-container {\n",
              "      display:flex;\n",
              "      gap: 12px;\n",
              "    }\n",
              "\n",
              "    .colab-df-convert {\n",
              "      background-color: #E8F0FE;\n",
              "      border: none;\n",
              "      border-radius: 50%;\n",
              "      cursor: pointer;\n",
              "      display: none;\n",
              "      fill: #1967D2;\n",
              "      height: 32px;\n",
              "      padding: 0 0 0 0;\n",
              "      width: 32px;\n",
              "    }\n",
              "\n",
              "    .colab-df-convert:hover {\n",
              "      background-color: #E2EBFA;\n",
              "      box-shadow: 0px 1px 2px rgba(60, 64, 67, 0.3), 0px 1px 3px 1px rgba(60, 64, 67, 0.15);\n",
              "      fill: #174EA6;\n",
              "    }\n",
              "\n",
              "    .colab-df-buttons div {\n",
              "      margin-bottom: 4px;\n",
              "    }\n",
              "\n",
              "    [theme=dark] .colab-df-convert {\n",
              "      background-color: #3B4455;\n",
              "      fill: #D2E3FC;\n",
              "    }\n",
              "\n",
              "    [theme=dark] .colab-df-convert:hover {\n",
              "      background-color: #434B5C;\n",
              "      box-shadow: 0px 1px 3px 1px rgba(0, 0, 0, 0.15);\n",
              "      filter: drop-shadow(0px 1px 2px rgba(0, 0, 0, 0.3));\n",
              "      fill: #FFFFFF;\n",
              "    }\n",
              "  </style>\n",
              "\n",
              "    <script>\n",
              "      const buttonEl =\n",
              "        document.querySelector('#df-ed1b8f73-1011-48a8-9cad-8be6836cfd5d button.colab-df-convert');\n",
              "      buttonEl.style.display =\n",
              "        google.colab.kernel.accessAllowed ? 'block' : 'none';\n",
              "\n",
              "      async function convertToInteractive(key) {\n",
              "        const element = document.querySelector('#df-ed1b8f73-1011-48a8-9cad-8be6836cfd5d');\n",
              "        const dataTable =\n",
              "          await google.colab.kernel.invokeFunction('convertToInteractive',\n",
              "                                                    [key], {});\n",
              "        if (!dataTable) return;\n",
              "\n",
              "        const docLinkHtml = 'Like what you see? Visit the ' +\n",
              "          '<a target=\"_blank\" href=https://colab.research.google.com/notebooks/data_table.ipynb>data table notebook</a>'\n",
              "          + ' to learn more about interactive tables.';\n",
              "        element.innerHTML = '';\n",
              "        dataTable['output_type'] = 'display_data';\n",
              "        await google.colab.output.renderOutput(dataTable, element);\n",
              "        const docLink = document.createElement('div');\n",
              "        docLink.innerHTML = docLinkHtml;\n",
              "        element.appendChild(docLink);\n",
              "      }\n",
              "    </script>\n",
              "  </div>\n",
              "\n",
              "\n",
              "<div id=\"df-411e8847-3f21-4ec9-91f7-d95c115fcde2\">\n",
              "  <button class=\"colab-df-quickchart\" onclick=\"quickchart('df-411e8847-3f21-4ec9-91f7-d95c115fcde2')\"\n",
              "            title=\"Suggest charts.\"\n",
              "            style=\"display:none;\">\n",
              "\n",
              "<svg xmlns=\"http://www.w3.org/2000/svg\" height=\"24px\"viewBox=\"0 0 24 24\"\n",
              "     width=\"24px\">\n",
              "    <g>\n",
              "        <path d=\"M19 3H5c-1.1 0-2 .9-2 2v14c0 1.1.9 2 2 2h14c1.1 0 2-.9 2-2V5c0-1.1-.9-2-2-2zM9 17H7v-7h2v7zm4 0h-2V7h2v10zm4 0h-2v-4h2v4z\"/>\n",
              "    </g>\n",
              "</svg>\n",
              "  </button>\n",
              "\n",
              "<style>\n",
              "  .colab-df-quickchart {\n",
              "      --bg-color: #E8F0FE;\n",
              "      --fill-color: #1967D2;\n",
              "      --hover-bg-color: #E2EBFA;\n",
              "      --hover-fill-color: #174EA6;\n",
              "      --disabled-fill-color: #AAA;\n",
              "      --disabled-bg-color: #DDD;\n",
              "  }\n",
              "\n",
              "  [theme=dark] .colab-df-quickchart {\n",
              "      --bg-color: #3B4455;\n",
              "      --fill-color: #D2E3FC;\n",
              "      --hover-bg-color: #434B5C;\n",
              "      --hover-fill-color: #FFFFFF;\n",
              "      --disabled-bg-color: #3B4455;\n",
              "      --disabled-fill-color: #666;\n",
              "  }\n",
              "\n",
              "  .colab-df-quickchart {\n",
              "    background-color: var(--bg-color);\n",
              "    border: none;\n",
              "    border-radius: 50%;\n",
              "    cursor: pointer;\n",
              "    display: none;\n",
              "    fill: var(--fill-color);\n",
              "    height: 32px;\n",
              "    padding: 0;\n",
              "    width: 32px;\n",
              "  }\n",
              "\n",
              "  .colab-df-quickchart:hover {\n",
              "    background-color: var(--hover-bg-color);\n",
              "    box-shadow: 0 1px 2px rgba(60, 64, 67, 0.3), 0 1px 3px 1px rgba(60, 64, 67, 0.15);\n",
              "    fill: var(--button-hover-fill-color);\n",
              "  }\n",
              "\n",
              "  .colab-df-quickchart-complete:disabled,\n",
              "  .colab-df-quickchart-complete:disabled:hover {\n",
              "    background-color: var(--disabled-bg-color);\n",
              "    fill: var(--disabled-fill-color);\n",
              "    box-shadow: none;\n",
              "  }\n",
              "\n",
              "  .colab-df-spinner {\n",
              "    border: 2px solid var(--fill-color);\n",
              "    border-color: transparent;\n",
              "    border-bottom-color: var(--fill-color);\n",
              "    animation:\n",
              "      spin 1s steps(1) infinite;\n",
              "  }\n",
              "\n",
              "  @keyframes spin {\n",
              "    0% {\n",
              "      border-color: transparent;\n",
              "      border-bottom-color: var(--fill-color);\n",
              "      border-left-color: var(--fill-color);\n",
              "    }\n",
              "    20% {\n",
              "      border-color: transparent;\n",
              "      border-left-color: var(--fill-color);\n",
              "      border-top-color: var(--fill-color);\n",
              "    }\n",
              "    30% {\n",
              "      border-color: transparent;\n",
              "      border-left-color: var(--fill-color);\n",
              "      border-top-color: var(--fill-color);\n",
              "      border-right-color: var(--fill-color);\n",
              "    }\n",
              "    40% {\n",
              "      border-color: transparent;\n",
              "      border-right-color: var(--fill-color);\n",
              "      border-top-color: var(--fill-color);\n",
              "    }\n",
              "    60% {\n",
              "      border-color: transparent;\n",
              "      border-right-color: var(--fill-color);\n",
              "    }\n",
              "    80% {\n",
              "      border-color: transparent;\n",
              "      border-right-color: var(--fill-color);\n",
              "      border-bottom-color: var(--fill-color);\n",
              "    }\n",
              "    90% {\n",
              "      border-color: transparent;\n",
              "      border-bottom-color: var(--fill-color);\n",
              "    }\n",
              "  }\n",
              "</style>\n",
              "\n",
              "  <script>\n",
              "    async function quickchart(key) {\n",
              "      const quickchartButtonEl =\n",
              "        document.querySelector('#' + key + ' button');\n",
              "      quickchartButtonEl.disabled = true;  // To prevent multiple clicks.\n",
              "      quickchartButtonEl.classList.add('colab-df-spinner');\n",
              "      try {\n",
              "        const charts = await google.colab.kernel.invokeFunction(\n",
              "            'suggestCharts', [key], {});\n",
              "      } catch (error) {\n",
              "        console.error('Error during call to suggestCharts:', error);\n",
              "      }\n",
              "      quickchartButtonEl.classList.remove('colab-df-spinner');\n",
              "      quickchartButtonEl.classList.add('colab-df-quickchart-complete');\n",
              "    }\n",
              "    (() => {\n",
              "      let quickchartButtonEl =\n",
              "        document.querySelector('#df-411e8847-3f21-4ec9-91f7-d95c115fcde2 button');\n",
              "      quickchartButtonEl.style.display =\n",
              "        google.colab.kernel.accessAllowed ? 'block' : 'none';\n",
              "    })();\n",
              "  </script>\n",
              "</div>\n",
              "    </div>\n",
              "  </div>\n"
            ]
          },
          "metadata": {},
          "execution_count": 10
        }
      ]
    },
    {
      "cell_type": "markdown",
      "source": [
        "Descrptive statistics for the \"Change\" column."
      ],
      "metadata": {
        "id": "q8GhH5pC1tvW"
      }
    },
    {
      "cell_type": "code",
      "source": [
        "column_names = crypto_df.columns\n",
        "print (column_names)\n",
        "\n",
        "average_change = crypto_df[\"Change\"]\n",
        "average_change = average_change.astype(float)\n",
        "print (average_change)"
      ],
      "metadata": {
        "colab": {
          "base_uri": "https://localhost:8080/"
        },
        "id": "r6O5qRy_kk1K",
        "outputId": "803da518-d0b3-44f5-cbfd-07bfa52eed1d"
      },
      "execution_count": 30,
      "outputs": [
        {
          "output_type": "stream",
          "name": "stdout",
          "text": [
            "Index(['Symbol', 'Name', 'Price (Intraday)', 'Change', '% Change',\n",
            "       'Market Cap', 'Volume in Currency (Since 0:00 UTC)',\n",
            "       'Volume in Currency (24Hr)', 'Total Volume All Currencies (24Hr)',\n",
            "       'Circulating Supply'],\n",
            "      dtype='object')\n",
            "0    -215.010000\n",
            "1      -9.580000\n",
            "2       0.000200\n",
            "3       0.460000\n",
            "4      -0.003761\n",
            "5       0.000400\n",
            "6      -8.710000\n",
            "7       0.180000\n",
            "8       0.001367\n",
            "9      -0.001798\n",
            "10      0.000470\n",
            "11      0.000128\n",
            "12      0.027100\n",
            "13     -0.000079\n",
            "14     -0.009481\n",
            "15     -0.030200\n",
            "16      0.040000\n",
            "17   -178.950000\n",
            "18     -5.670000\n",
            "19     -0.000000\n",
            "20     -0.022800\n",
            "21      0.048600\n",
            "22      0.000642\n",
            "23     -0.032800\n",
            "24      0.026500\n",
            "Name: Change, dtype: float64\n"
          ]
        }
      ]
    },
    {
      "cell_type": "code",
      "source": [
        "average_change.describe()"
      ],
      "metadata": {
        "colab": {
          "base_uri": "https://localhost:8080/"
        },
        "id": "IpPdm4V1nPn1",
        "outputId": "30f086ae-d6b6-4a95-9e7c-f92048d0f6d5"
      },
      "execution_count": 28,
      "outputs": [
        {
          "output_type": "execute_result",
          "data": {
            "text/plain": [
              "count     25.000000\n",
              "mean     -16.689420\n",
              "std       54.577554\n",
              "min     -215.010000\n",
              "25%       -0.030200\n",
              "50%        0.000000\n",
              "75%        0.001367\n",
              "max        0.460000\n",
              "Name: Change, dtype: float64"
            ]
          },
          "metadata": {},
          "execution_count": 28
        }
      ]
    },
    {
      "cell_type": "markdown",
      "source": [
        "Plots a bar graph for the first 6 cryptos in the dataframe, and the change in their price today (October 10th)."
      ],
      "metadata": {
        "id": "DwRELvKQ12w0"
      }
    },
    {
      "cell_type": "code",
      "source": [
        "from matplotlib import pyplot as plt\n",
        "\n",
        "symbol_column = crypto_df[\"Symbol\"]\n",
        "change_column = crypto_df[\"Change\"]\n",
        "\n",
        "selected_symbols = []\n",
        "selected_change = []\n",
        "\n",
        "for i in range(6):\n",
        "    selected_symbols.append(symbol_column[i])\n",
        "    selected_change.append(change_column[i])\n",
        "\n",
        "\n",
        "# Now plot our bar graph\n",
        "plt.bar(selected_symbols, selected_change, color ='maroon', width = 0.6)\n",
        "\n",
        "# Now add axis labels with units\n",
        "plt.xlabel(\"Symbol\")\n",
        "plt.ylabel(\"Change in price today\")\n",
        "\n",
        "# We can add a title too\n",
        "plt.title(\"Change in price for 5 cryptos\")"
      ],
      "metadata": {
        "colab": {
          "base_uri": "https://localhost:8080/",
          "height": 489
        },
        "id": "qHXVivo9si0C",
        "outputId": "a17f907e-8f6e-4594-df51-510d9b1a819b"
      },
      "execution_count": 44,
      "outputs": [
        {
          "output_type": "execute_result",
          "data": {
            "text/plain": [
              "Text(0.5, 1.0, 'Change in price for 5 cryptos')"
            ]
          },
          "metadata": {},
          "execution_count": 44
        },
        {
          "output_type": "display_data",
          "data": {
            "text/plain": [
              "<Figure size 640x480 with 1 Axes>"
            ],
            "image/png": "[encoded data removed]"
          },
          "metadata": {}
        }
      ]
    }
  ]
}